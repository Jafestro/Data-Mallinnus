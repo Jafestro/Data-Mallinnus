{
 "cells": [
  {
   "cell_type": "code",
   "id": "initial_id",
   "metadata": {
    "collapsed": true,
    "ExecuteTime": {
     "end_time": "2025-02-09T11:12:41.714988Z",
     "start_time": "2025-02-09T11:12:40.359189Z"
    }
   },
   "source": [
    "from sklearn.metrics import mean_squared_error, r2_score, accuracy_score, confusion_matrix\n",
    "from sklearn.linear_model import LinearRegression, LogisticRegression\n",
    "from sklearn.model_selection import train_test_split\n",
    "from sklearn.preprocessing import StandardScaler\n",
    "from ucimlrepo import fetch_ucirepo\n",
    "import numpy as np\n",
    "import matplotlib.pyplot as plt\n",
    "import pandas as pd\n",
    "\n",
    "# fetch dataset\n",
    "real_estate_valuation = fetch_ucirepo(id=477)\n",
    "\n",
    "# data (as pandas dataframes)\n",
    "X = real_estate_valuation.data.features\n",
    "y = real_estate_valuation.data.targets\n",
    "\n",
    "scaler = StandardScaler()\n",
    "X_scaled = scaler.fit_transform(X)\n",
    "\n",
    "X_train, X_test, y_train, y_test = train_test_split(X_scaled, y, test_size=0.2, random_state=42)\n",
    "\n",
    "model = LinearRegression()\n",
    "model.fit(X_train, y_train)\n",
    "\n",
    "y_pred = model.predict(X_test)\n",
    "\n",
    "plt.scatter(y_test, y_pred)\n",
    "\n",
    "rmse = np.sqrt(mean_squared_error(y_test, y_pred))\n",
    "r2 = r2_score(y_test, y_pred)\n",
    "\n",
    "print(f\"Root Mean Squared Error (RMSE): {rmse:.2f}\")\n",
    "print(f\"R² Score: {r2:.2f}\")"
   ],
   "outputs": [
    {
     "name": "stdout",
     "output_type": "stream",
     "text": [
      "Root Mean Squared Error (RMSE): 7.31\n",
      "R² Score: 0.68\n"
     ]
    },
    {
     "data": {
      "text/plain": [
       "<Figure size 640x480 with 1 Axes>"
      ],
      "image/png": "[encoded data removed]"
     },
     "metadata": {},
     "output_type": "display_data"
    }
   ],
   "execution_count": 60
  },
  {
   "metadata": {
    "ExecuteTime": {
     "end_time": "2025-02-09T11:12:41.724972Z",
     "start_time": "2025-02-09T11:12:41.718217Z"
    }
   },
   "cell_type": "code",
   "source": [
    "from sklearn.metrics import confusion_matrix\n",
    "\n",
    "mean_price = y_train.mean().values[0]\n",
    "\n",
    "y_train_binary = (y_train > mean_price).astype(int)\n",
    "y_test_binary = (y_test > mean_price).astype(int)\n",
    "\n",
    "y_train_binary_flat = y_train_binary.values.ravel()\n",
    "y_test_binary_flat = y_test_binary.values.ravel()\n",
    "\n",
    "log_model = LogisticRegression()\n",
    "log_model.fit(X_train, y_train_binary_flat)\n",
    "\n",
    "y_pred_binary = log_model.predict(X_test)\n",
    "\n",
    "accuracy = accuracy_score(y_test_binary_flat, y_pred_binary)\n",
    "\n",
    "print(f\"Mean house price (threshold): {mean_price:.2f}\")\n",
    "print(f\"Accuracy: {accuracy:.2f}\")\n",
    "print(f\"Coefficients: {log_model.coef_}\")\n",
    "print(f\"Intercept: {log_model.intercept_}\")"
   ],
   "id": "b1ec1477071b2947",
   "outputs": [
    {
     "name": "stdout",
     "output_type": "stream",
     "text": [
      "Mean house price (threshold): 38.39\n",
      "Accuracy: 0.82\n",
      "Coefficients: [[ 0.23214581 -0.61188582 -2.38300698  0.55330495  0.9400307  -0.13234689]]\n",
      "Intercept: [-0.62572427]\n"
     ]
    }
   ],
   "execution_count": 61
  },
  {
   "metadata": {
    "ExecuteTime": {
     "end_time": "2025-02-09T11:12:41.745988Z",
     "start_time": "2025-02-09T11:12:41.742068Z"
    }
   },
   "cell_type": "code",
   "source": "",
   "id": "e00ca4376632ae7d",
   "outputs": [],
   "execution_count": null
  }
 ],
 "metadata": {
  "kernelspec": {
   "display_name": "Python 3",
   "language": "python",
   "name": "python3"
  },
  "language_info": {
   "codemirror_mode": {
    "name": "ipython",
    "version": 2
   },
   "file_extension": ".py",
   "mimetype": "text/x-python",
   "name": "python",
   "nbconvert_exporter": "python",
   "pygments_lexer": "ipython2",
   "version": "2.7.6"
  }
 },
 "nbformat": 4,
 "nbformat_minor": 5
}
